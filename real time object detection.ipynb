{
 "cells": [
  {
   "cell_type": "code",
   "execution_count": 12,
   "id": "f1910eb8-2e44-4e4f-b760-dded11b5721b",
   "metadata": {},
   "outputs": [
    {
     "name": "stderr",
     "output_type": "stream",
     "text": [
      "ERROR: Could not find a version that satisfies the requirement torch==1.10.0 (from versions: 2.2.0, 2.2.1, 2.2.2, 2.3.0, 2.3.1, 2.4.0)\n",
      "ERROR: No matching distribution found for torch==1.10.0\n",
      "\n",
      "[notice] A new release of pip is available: 24.0 -> 24.2\n",
      "[notice] To update, run: python.exe -m pip install --upgrade pip\n"
     ]
    },
    {
     "name": "stdout",
     "output_type": "stream",
     "text": [
      "Requirement already satisfied: yolov5 in c:\\users\\admin\\appdata\\local\\programs\\python\\python312\\lib\\site-packages (7.0.13)\n",
      "Requirement already satisfied: gitpython>=3.1.30 in c:\\users\\admin\\appdata\\local\\programs\\python\\python312\\lib\\site-packages (from yolov5) (3.1.43)\n",
      "Requirement already satisfied: matplotlib>=3.3 in c:\\users\\admin\\appdata\\local\\programs\\python\\python312\\lib\\site-packages (from yolov5) (3.9.1)\n",
      "Requirement already satisfied: numpy>=1.18.5 in c:\\users\\admin\\appdata\\local\\programs\\python\\python312\\lib\\site-packages (from yolov5) (1.26.4)\n",
      "Requirement already satisfied: opencv-python>=4.1.1 in c:\\users\\admin\\appdata\\local\\programs\\python\\python312\\lib\\site-packages (from yolov5) (4.9.0.80)\n",
      "Requirement already satisfied: Pillow>=7.1.2 in c:\\users\\admin\\appdata\\local\\programs\\python\\python312\\lib\\site-packages (from yolov5) (10.4.0)\n",
      "Requirement already satisfied: psutil in c:\\users\\admin\\appdata\\local\\programs\\python\\python312\\lib\\site-packages (from yolov5) (6.0.0)\n",
      "Requirement already satisfied: PyYAML>=5.3.1 in c:\\users\\admin\\appdata\\local\\programs\\python\\python312\\lib\\site-packages (from yolov5) (6.0.1)\n",
      "Requirement already satisfied: requests>=2.23.0 in c:\\users\\admin\\appdata\\local\\programs\\python\\python312\\lib\\site-packages (from yolov5) (2.32.3)\n",
      "Requirement already satisfied: scipy>=1.4.1 in c:\\users\\admin\\appdata\\local\\programs\\python\\python312\\lib\\site-packages (from yolov5) (1.14.0)\n",
      "Requirement already satisfied: thop>=0.1.1 in c:\\users\\admin\\appdata\\local\\programs\\python\\python312\\lib\\site-packages (from yolov5) (0.1.1.post2209072238)\n",
      "Requirement already satisfied: torch>=1.7.0 in c:\\users\\admin\\appdata\\local\\programs\\python\\python312\\lib\\site-packages (from yolov5) (2.4.0)\n",
      "Requirement already satisfied: torchvision>=0.8.1 in c:\\users\\admin\\appdata\\local\\programs\\python\\python312\\lib\\site-packages (from yolov5) (0.19.0)\n",
      "Requirement already satisfied: tqdm>=4.64.0 in c:\\users\\admin\\appdata\\local\\programs\\python\\python312\\lib\\site-packages (from yolov5) (4.66.4)\n",
      "Requirement already satisfied: ultralytics>=8.0.100 in c:\\users\\admin\\appdata\\local\\programs\\python\\python312\\lib\\site-packages (from yolov5) (8.2.71)\n",
      "Requirement already satisfied: tensorboard>=2.4.1 in c:\\users\\admin\\appdata\\local\\programs\\python\\python312\\lib\\site-packages (from yolov5) (2.17.0)\n",
      "Requirement already satisfied: pandas>=1.1.4 in c:\\users\\admin\\appdata\\local\\programs\\python\\python312\\lib\\site-packages (from yolov5) (2.2.2)\n",
      "Requirement already satisfied: seaborn>=0.11.0 in c:\\users\\admin\\appdata\\local\\programs\\python\\python312\\lib\\site-packages (from yolov5) (0.13.2)\n",
      "Requirement already satisfied: setuptools>=65.5.1 in c:\\users\\admin\\appdata\\local\\programs\\python\\python312\\lib\\site-packages (from yolov5) (72.1.0)\n",
      "Requirement already satisfied: fire in c:\\users\\admin\\appdata\\local\\programs\\python\\python312\\lib\\site-packages (from yolov5) (0.6.0)\n",
      "Requirement already satisfied: boto3>=1.19.1 in c:\\users\\admin\\appdata\\local\\programs\\python\\python312\\lib\\site-packages (from yolov5) (1.34.151)\n",
      "Requirement already satisfied: sahi>=0.11.10 in c:\\users\\admin\\appdata\\local\\programs\\python\\python312\\lib\\site-packages (from yolov5) (0.11.18)\n",
      "Requirement already satisfied: huggingface-hub>=0.12.0 in c:\\users\\admin\\appdata\\local\\programs\\python\\python312\\lib\\site-packages (from yolov5) (0.24.5)\n",
      "Requirement already satisfied: roboflow>=0.2.29 in c:\\users\\admin\\appdata\\local\\programs\\python\\python312\\lib\\site-packages (from yolov5) (1.1.37)\n",
      "Requirement already satisfied: botocore<1.35.0,>=1.34.151 in c:\\users\\admin\\appdata\\local\\programs\\python\\python312\\lib\\site-packages (from boto3>=1.19.1->yolov5) (1.34.151)\n",
      "Requirement already satisfied: jmespath<2.0.0,>=0.7.1 in c:\\users\\admin\\appdata\\local\\programs\\python\\python312\\lib\\site-packages (from boto3>=1.19.1->yolov5) (1.0.1)\n",
      "Requirement already satisfied: s3transfer<0.11.0,>=0.10.0 in c:\\users\\admin\\appdata\\local\\programs\\python\\python312\\lib\\site-packages (from boto3>=1.19.1->yolov5) (0.10.2)\n",
      "Requirement already satisfied: gitdb<5,>=4.0.1 in c:\\users\\admin\\appdata\\local\\programs\\python\\python312\\lib\\site-packages (from gitpython>=3.1.30->yolov5) (4.0.11)\n",
      "Requirement already satisfied: filelock in c:\\users\\admin\\appdata\\local\\programs\\python\\python312\\lib\\site-packages (from huggingface-hub>=0.12.0->yolov5) (3.15.4)\n",
      "Requirement already satisfied: fsspec>=2023.5.0 in c:\\users\\admin\\appdata\\local\\programs\\python\\python312\\lib\\site-packages (from huggingface-hub>=0.12.0->yolov5) (2024.6.1)\n",
      "Requirement already satisfied: packaging>=20.9 in c:\\users\\admin\\appdata\\local\\programs\\python\\python312\\lib\\site-packages (from huggingface-hub>=0.12.0->yolov5) (24.1)\n",
      "Requirement already satisfied: typing-extensions>=3.7.4.3 in c:\\users\\admin\\appdata\\local\\programs\\python\\python312\\lib\\site-packages (from huggingface-hub>=0.12.0->yolov5) (4.12.2)\n",
      "Requirement already satisfied: contourpy>=1.0.1 in c:\\users\\admin\\appdata\\local\\programs\\python\\python312\\lib\\site-packages (from matplotlib>=3.3->yolov5) (1.2.1)\n",
      "Requirement already satisfied: cycler>=0.10 in c:\\users\\admin\\appdata\\local\\programs\\python\\python312\\lib\\site-packages (from matplotlib>=3.3->yolov5) (0.12.1)\n",
      "Requirement already satisfied: fonttools>=4.22.0 in c:\\users\\admin\\appdata\\local\\programs\\python\\python312\\lib\\site-packages (from matplotlib>=3.3->yolov5) (4.53.1)\n",
      "Requirement already satisfied: kiwisolver>=1.3.1 in c:\\users\\admin\\appdata\\local\\programs\\python\\python312\\lib\\site-packages (from matplotlib>=3.3->yolov5) (1.4.5)\n",
      "Requirement already satisfied: pyparsing>=2.3.1 in c:\\users\\admin\\appdata\\local\\programs\\python\\python312\\lib\\site-packages (from matplotlib>=3.3->yolov5) (3.1.2)\n",
      "Requirement already satisfied: python-dateutil>=2.7 in c:\\users\\admin\\appdata\\local\\programs\\python\\python312\\lib\\site-packages (from matplotlib>=3.3->yolov5) (2.9.0.post0)\n",
      "Requirement already satisfied: pytz>=2020.1 in c:\\users\\admin\\appdata\\local\\programs\\python\\python312\\lib\\site-packages (from pandas>=1.1.4->yolov5) (2024.1)\n",
      "Requirement already satisfied: tzdata>=2022.7 in c:\\users\\admin\\appdata\\local\\programs\\python\\python312\\lib\\site-packages (from pandas>=1.1.4->yolov5) (2024.1)\n",
      "Requirement already satisfied: charset-normalizer<4,>=2 in c:\\users\\admin\\appdata\\local\\programs\\python\\python312\\lib\\site-packages (from requests>=2.23.0->yolov5) (3.3.2)\n",
      "Requirement already satisfied: idna<4,>=2.5 in c:\\users\\admin\\appdata\\local\\programs\\python\\python312\\lib\\site-packages (from requests>=2.23.0->yolov5) (3.7)\n",
      "Requirement already satisfied: urllib3<3,>=1.21.1 in c:\\users\\admin\\appdata\\local\\programs\\python\\python312\\lib\\site-packages (from requests>=2.23.0->yolov5) (2.2.2)\n",
      "Requirement already satisfied: certifi>=2017.4.17 in c:\\users\\admin\\appdata\\local\\programs\\python\\python312\\lib\\site-packages (from requests>=2.23.0->yolov5) (2024.7.4)\n",
      "Requirement already satisfied: chardet==4.0.0 in c:\\users\\admin\\appdata\\local\\programs\\python\\python312\\lib\\site-packages (from roboflow>=0.2.29->yolov5) (4.0.0)\n",
      "Requirement already satisfied: opencv-python-headless==4.10.0.84 in c:\\users\\admin\\appdata\\local\\programs\\python\\python312\\lib\\site-packages (from roboflow>=0.2.29->yolov5) (4.10.0.84)\n",
      "Requirement already satisfied: python-dotenv in c:\\users\\admin\\appdata\\local\\programs\\python\\python312\\lib\\site-packages (from roboflow>=0.2.29->yolov5) (1.0.1)\n",
      "Requirement already satisfied: six in c:\\users\\admin\\appdata\\local\\programs\\python\\python312\\lib\\site-packages (from roboflow>=0.2.29->yolov5) (1.16.0)\n",
      "Requirement already satisfied: requests-toolbelt in c:\\users\\admin\\appdata\\local\\programs\\python\\python312\\lib\\site-packages (from roboflow>=0.2.29->yolov5) (1.0.0)\n",
      "Requirement already satisfied: filetype in c:\\users\\admin\\appdata\\local\\programs\\python\\python312\\lib\\site-packages (from roboflow>=0.2.29->yolov5) (1.2.0)\n",
      "Requirement already satisfied: shapely>=1.8.0 in c:\\users\\admin\\appdata\\local\\programs\\python\\python312\\lib\\site-packages (from sahi>=0.11.10->yolov5) (2.0.5)\n",
      "Requirement already satisfied: pybboxes==0.1.6 in c:\\users\\admin\\appdata\\local\\programs\\python\\python312\\lib\\site-packages (from sahi>=0.11.10->yolov5) (0.1.6)\n",
      "Requirement already satisfied: terminaltables in c:\\users\\admin\\appdata\\local\\programs\\python\\python312\\lib\\site-packages (from sahi>=0.11.10->yolov5) (3.1.10)\n",
      "Requirement already satisfied: click in c:\\users\\admin\\appdata\\local\\programs\\python\\python312\\lib\\site-packages (from sahi>=0.11.10->yolov5) (8.1.7)\n",
      "Requirement already satisfied: absl-py>=0.4 in c:\\users\\admin\\appdata\\local\\programs\\python\\python312\\lib\\site-packages (from tensorboard>=2.4.1->yolov5) (2.1.0)\n",
      "Requirement already satisfied: grpcio>=1.48.2 in c:\\users\\admin\\appdata\\local\\programs\\python\\python312\\lib\\site-packages (from tensorboard>=2.4.1->yolov5) (1.65.2)\n",
      "Requirement already satisfied: markdown>=2.6.8 in c:\\users\\admin\\appdata\\local\\programs\\python\\python312\\lib\\site-packages (from tensorboard>=2.4.1->yolov5) (3.6)\n",
      "Requirement already satisfied: protobuf!=4.24.0,<5.0.0,>=3.19.6 in c:\\users\\admin\\appdata\\local\\programs\\python\\python312\\lib\\site-packages (from tensorboard>=2.4.1->yolov5) (4.25.3)\n",
      "Requirement already satisfied: tensorboard-data-server<0.8.0,>=0.7.0 in c:\\users\\admin\\appdata\\local\\programs\\python\\python312\\lib\\site-packages (from tensorboard>=2.4.1->yolov5) (0.7.2)\n",
      "Requirement already satisfied: werkzeug>=1.0.1 in c:\\users\\admin\\appdata\\local\\programs\\python\\python312\\lib\\site-packages (from tensorboard>=2.4.1->yolov5) (3.0.3)\n",
      "Requirement already satisfied: sympy in c:\\users\\admin\\appdata\\local\\programs\\python\\python312\\lib\\site-packages (from torch>=1.7.0->yolov5) (1.13.0)\n",
      "Requirement already satisfied: networkx in c:\\users\\admin\\appdata\\local\\programs\\python\\python312\\lib\\site-packages (from torch>=1.7.0->yolov5) (3.3)\n",
      "Requirement already satisfied: jinja2 in c:\\users\\admin\\appdata\\local\\programs\\python\\python312\\lib\\site-packages (from torch>=1.7.0->yolov5) (3.1.4)\n",
      "Requirement already satisfied: colorama in c:\\users\\admin\\appdata\\local\\programs\\python\\python312\\lib\\site-packages (from tqdm>=4.64.0->yolov5) (0.4.6)\n",
      "Requirement already satisfied: py-cpuinfo in c:\\users\\admin\\appdata\\local\\programs\\python\\python312\\lib\\site-packages (from ultralytics>=8.0.100->yolov5) (9.0.0)\n",
      "Requirement already satisfied: ultralytics-thop>=2.0.0 in c:\\users\\admin\\appdata\\local\\programs\\python\\python312\\lib\\site-packages (from ultralytics>=8.0.100->yolov5) (2.0.0)\n",
      "Requirement already satisfied: termcolor in c:\\users\\admin\\appdata\\local\\programs\\python\\python312\\lib\\site-packages (from fire->yolov5) (2.4.0)\n",
      "Requirement already satisfied: smmap<6,>=3.0.1 in c:\\users\\admin\\appdata\\local\\programs\\python\\python312\\lib\\site-packages (from gitdb<5,>=4.0.1->gitpython>=3.1.30->yolov5) (5.0.1)\n",
      "Requirement already satisfied: MarkupSafe>=2.1.1 in c:\\users\\admin\\appdata\\local\\programs\\python\\python312\\lib\\site-packages (from werkzeug>=1.0.1->tensorboard>=2.4.1->yolov5) (2.1.5)\n",
      "Requirement already satisfied: mpmath<1.4,>=1.1.0 in c:\\users\\admin\\appdata\\local\\programs\\python\\python312\\lib\\site-packages (from sympy->torch>=1.7.0->yolov5) (1.3.0)\n"
     ]
    },
    {
     "name": "stderr",
     "output_type": "stream",
     "text": [
      "\n",
      "[notice] A new release of pip is available: 24.0 -> 24.2\n",
      "[notice] To update, run: python.exe -m pip install --upgrade pip\n"
     ]
    }
   ],
   "source": [
    "# Install dependencies\n",
    "!pip install torch==1.10.0 torchvision==0.11.1\n",
    "!pip install yolov5\n"
   ]
  },
  {
   "cell_type": "code",
   "execution_count": 13,
   "id": "ab84f948-408b-4b63-a23e-226bad4e7227",
   "metadata": {},
   "outputs": [
    {
     "name": "stdout",
     "output_type": "stream",
     "text": [
      "C:\\Users\\Admin\\Desktop\\python\\yolov5\\yolov5\\yolov5\n"
     ]
    },
    {
     "name": "stderr",
     "output_type": "stream",
     "text": [
      "Cloning into 'yolov5'...\n",
      "C:\\Users\\Admin\\AppData\\Local\\Programs\\Python\\Python312\\Lib\\site-packages\\IPython\\core\\magics\\osm.py:417: UserWarning: This is now an optional IPython functionality, setting dhist requires you to install the `pickleshare` library.\n",
      "  self.shell.db['dhist'] = compress_dhist(dhist)[-100:]\n"
     ]
    },
    {
     "name": "stdout",
     "output_type": "stream",
     "text": [
      "Requirement already satisfied: gitpython>=3.1.30 in c:\\users\\admin\\appdata\\local\\programs\\python\\python312\\lib\\site-packages (from -r requirements.txt (line 5)) (3.1.43)\n",
      "Requirement already satisfied: matplotlib>=3.3 in c:\\users\\admin\\appdata\\local\\programs\\python\\python312\\lib\\site-packages (from -r requirements.txt (line 6)) (3.9.1)\n",
      "Requirement already satisfied: numpy>=1.23.5 in c:\\users\\admin\\appdata\\local\\programs\\python\\python312\\lib\\site-packages (from -r requirements.txt (line 7)) (1.26.4)\n",
      "Requirement already satisfied: opencv-python>=4.1.1 in c:\\users\\admin\\appdata\\local\\programs\\python\\python312\\lib\\site-packages (from -r requirements.txt (line 8)) (4.9.0.80)\n",
      "Requirement already satisfied: pillow>=10.3.0 in c:\\users\\admin\\appdata\\local\\programs\\python\\python312\\lib\\site-packages (from -r requirements.txt (line 9)) (10.4.0)\n",
      "Requirement already satisfied: psutil in c:\\users\\admin\\appdata\\local\\programs\\python\\python312\\lib\\site-packages (from -r requirements.txt (line 10)) (6.0.0)\n",
      "Requirement already satisfied: PyYAML>=5.3.1 in c:\\users\\admin\\appdata\\local\\programs\\python\\python312\\lib\\site-packages (from -r requirements.txt (line 11)) (6.0.1)\n",
      "Requirement already satisfied: requests>=2.32.0 in c:\\users\\admin\\appdata\\local\\programs\\python\\python312\\lib\\site-packages (from -r requirements.txt (line 12)) (2.32.3)\n",
      "Requirement already satisfied: scipy>=1.4.1 in c:\\users\\admin\\appdata\\local\\programs\\python\\python312\\lib\\site-packages (from -r requirements.txt (line 13)) (1.14.0)\n",
      "Requirement already satisfied: thop>=0.1.1 in c:\\users\\admin\\appdata\\local\\programs\\python\\python312\\lib\\site-packages (from -r requirements.txt (line 14)) (0.1.1.post2209072238)\n",
      "Requirement already satisfied: torch>=1.8.0 in c:\\users\\admin\\appdata\\local\\programs\\python\\python312\\lib\\site-packages (from -r requirements.txt (line 15)) (2.4.0)\n",
      "Requirement already satisfied: torchvision>=0.9.0 in c:\\users\\admin\\appdata\\local\\programs\\python\\python312\\lib\\site-packages (from -r requirements.txt (line 16)) (0.19.0)\n",
      "Requirement already satisfied: tqdm>=4.64.0 in c:\\users\\admin\\appdata\\local\\programs\\python\\python312\\lib\\site-packages (from -r requirements.txt (line 17)) (4.66.4)\n",
      "Requirement already satisfied: ultralytics>=8.2.34 in c:\\users\\admin\\appdata\\local\\programs\\python\\python312\\lib\\site-packages (from -r requirements.txt (line 18)) (8.2.71)\n",
      "Requirement already satisfied: pandas>=1.1.4 in c:\\users\\admin\\appdata\\local\\programs\\python\\python312\\lib\\site-packages (from -r requirements.txt (line 27)) (2.2.2)\n",
      "Requirement already satisfied: seaborn>=0.11.0 in c:\\users\\admin\\appdata\\local\\programs\\python\\python312\\lib\\site-packages (from -r requirements.txt (line 28)) (0.13.2)\n",
      "Requirement already satisfied: setuptools>=70.0.0 in c:\\users\\admin\\appdata\\local\\programs\\python\\python312\\lib\\site-packages (from -r requirements.txt (line 42)) (72.1.0)\n",
      "Requirement already satisfied: gitdb<5,>=4.0.1 in c:\\users\\admin\\appdata\\local\\programs\\python\\python312\\lib\\site-packages (from gitpython>=3.1.30->-r requirements.txt (line 5)) (4.0.11)\n",
      "Requirement already satisfied: contourpy>=1.0.1 in c:\\users\\admin\\appdata\\local\\programs\\python\\python312\\lib\\site-packages (from matplotlib>=3.3->-r requirements.txt (line 6)) (1.2.1)\n",
      "Requirement already satisfied: cycler>=0.10 in c:\\users\\admin\\appdata\\local\\programs\\python\\python312\\lib\\site-packages (from matplotlib>=3.3->-r requirements.txt (line 6)) (0.12.1)\n",
      "Requirement already satisfied: fonttools>=4.22.0 in c:\\users\\admin\\appdata\\local\\programs\\python\\python312\\lib\\site-packages (from matplotlib>=3.3->-r requirements.txt (line 6)) (4.53.1)\n",
      "Requirement already satisfied: kiwisolver>=1.3.1 in c:\\users\\admin\\appdata\\local\\programs\\python\\python312\\lib\\site-packages (from matplotlib>=3.3->-r requirements.txt (line 6)) (1.4.5)\n",
      "Requirement already satisfied: packaging>=20.0 in c:\\users\\admin\\appdata\\local\\programs\\python\\python312\\lib\\site-packages (from matplotlib>=3.3->-r requirements.txt (line 6)) (24.1)\n",
      "Requirement already satisfied: pyparsing>=2.3.1 in c:\\users\\admin\\appdata\\local\\programs\\python\\python312\\lib\\site-packages (from matplotlib>=3.3->-r requirements.txt (line 6)) (3.1.2)\n",
      "Requirement already satisfied: python-dateutil>=2.7 in c:\\users\\admin\\appdata\\local\\programs\\python\\python312\\lib\\site-packages (from matplotlib>=3.3->-r requirements.txt (line 6)) (2.9.0.post0)\n",
      "Requirement already satisfied: charset-normalizer<4,>=2 in c:\\users\\admin\\appdata\\local\\programs\\python\\python312\\lib\\site-packages (from requests>=2.32.0->-r requirements.txt (line 12)) (3.3.2)\n",
      "Requirement already satisfied: idna<4,>=2.5 in c:\\users\\admin\\appdata\\local\\programs\\python\\python312\\lib\\site-packages (from requests>=2.32.0->-r requirements.txt (line 12)) (3.7)\n",
      "Requirement already satisfied: urllib3<3,>=1.21.1 in c:\\users\\admin\\appdata\\local\\programs\\python\\python312\\lib\\site-packages (from requests>=2.32.0->-r requirements.txt (line 12)) (2.2.2)\n",
      "Requirement already satisfied: certifi>=2017.4.17 in c:\\users\\admin\\appdata\\local\\programs\\python\\python312\\lib\\site-packages (from requests>=2.32.0->-r requirements.txt (line 12)) (2024.7.4)\n",
      "Requirement already satisfied: filelock in c:\\users\\admin\\appdata\\local\\programs\\python\\python312\\lib\\site-packages (from torch>=1.8.0->-r requirements.txt (line 15)) (3.15.4)\n",
      "Requirement already satisfied: typing-extensions>=4.8.0 in c:\\users\\admin\\appdata\\local\\programs\\python\\python312\\lib\\site-packages (from torch>=1.8.0->-r requirements.txt (line 15)) (4.12.2)\n",
      "Requirement already satisfied: sympy in c:\\users\\admin\\appdata\\local\\programs\\python\\python312\\lib\\site-packages (from torch>=1.8.0->-r requirements.txt (line 15)) (1.13.0)\n",
      "Requirement already satisfied: networkx in c:\\users\\admin\\appdata\\local\\programs\\python\\python312\\lib\\site-packages (from torch>=1.8.0->-r requirements.txt (line 15)) (3.3)\n",
      "Requirement already satisfied: jinja2 in c:\\users\\admin\\appdata\\local\\programs\\python\\python312\\lib\\site-packages (from torch>=1.8.0->-r requirements.txt (line 15)) (3.1.4)\n",
      "Requirement already satisfied: fsspec in c:\\users\\admin\\appdata\\local\\programs\\python\\python312\\lib\\site-packages (from torch>=1.8.0->-r requirements.txt (line 15)) (2024.6.1)\n",
      "Requirement already satisfied: colorama in c:\\users\\admin\\appdata\\local\\programs\\python\\python312\\lib\\site-packages (from tqdm>=4.64.0->-r requirements.txt (line 17)) (0.4.6)\n",
      "Requirement already satisfied: py-cpuinfo in c:\\users\\admin\\appdata\\local\\programs\\python\\python312\\lib\\site-packages (from ultralytics>=8.2.34->-r requirements.txt (line 18)) (9.0.0)\n",
      "Requirement already satisfied: ultralytics-thop>=2.0.0 in c:\\users\\admin\\appdata\\local\\programs\\python\\python312\\lib\\site-packages (from ultralytics>=8.2.34->-r requirements.txt (line 18)) (2.0.0)\n",
      "Requirement already satisfied: pytz>=2020.1 in c:\\users\\admin\\appdata\\local\\programs\\python\\python312\\lib\\site-packages (from pandas>=1.1.4->-r requirements.txt (line 27)) (2024.1)\n",
      "Requirement already satisfied: tzdata>=2022.7 in c:\\users\\admin\\appdata\\local\\programs\\python\\python312\\lib\\site-packages (from pandas>=1.1.4->-r requirements.txt (line 27)) (2024.1)\n",
      "Requirement already satisfied: smmap<6,>=3.0.1 in c:\\users\\admin\\appdata\\local\\programs\\python\\python312\\lib\\site-packages (from gitdb<5,>=4.0.1->gitpython>=3.1.30->-r requirements.txt (line 5)) (5.0.1)\n",
      "Requirement already satisfied: six>=1.5 in c:\\users\\admin\\appdata\\local\\programs\\python\\python312\\lib\\site-packages (from python-dateutil>=2.7->matplotlib>=3.3->-r requirements.txt (line 6)) (1.16.0)\n",
      "Requirement already satisfied: MarkupSafe>=2.0 in c:\\users\\admin\\appdata\\local\\programs\\python\\python312\\lib\\site-packages (from jinja2->torch>=1.8.0->-r requirements.txt (line 15)) (2.1.5)\n",
      "Requirement already satisfied: mpmath<1.4,>=1.1.0 in c:\\users\\admin\\appdata\\local\\programs\\python\\python312\\lib\\site-packages (from sympy->torch>=1.8.0->-r requirements.txt (line 15)) (1.3.0)\n"
     ]
    },
    {
     "name": "stderr",
     "output_type": "stream",
     "text": [
      "\n",
      "[notice] A new release of pip is available: 24.0 -> 24.2\n",
      "[notice] To update, run: python.exe -m pip install --upgrade pip\n"
     ]
    }
   ],
   "source": [
    "# Clone YOLOv5 repository\n",
    "!git clone https://github.com/ultralytics/yolov5.git\n",
    "%cd yolov5\n",
    "!pip install -r requirements.txt"
   ]
  },
  {
   "cell_type": "code",
   "execution_count": 14,
   "id": "34c3930e-103d-4421-a8a7-f66c104fb0f0",
   "metadata": {},
   "outputs": [],
   "source": [
    "# Download the COCO dataset (train2017, val2017, and annotations)\n",
    "import os\n",
    "import requests\n",
    "from zipfile import ZipFile\n"
   ]
  },
  {
   "cell_type": "code",
   "execution_count": 15,
   "id": "5444d299-92d1-429e-a91a-09dd7ed7a345",
   "metadata": {},
   "outputs": [],
   "source": [
    "# Create directories for the dataset\n",
    "os.makedirs(\"coco/train2017\", exist_ok=True)\n",
    "os.makedirs(\"coco/val2017\", exist_ok=True)\n",
    "os.makedirs(\"coco/annotations\", exist_ok=True)"
   ]
  },
  {
   "cell_type": "code",
   "execution_count": 16,
   "id": "c9570adf-8c5c-4677-a92f-c233b0f7925b",
   "metadata": {},
   "outputs": [],
   "source": [
    "# Function to download and extract dataset\n",
    "def download_and_extract(url, extract_to='.'):\n",
    "    local_filename = url.split('/')[-1]\n",
    "    with requests.get(url, stream=True) as r:\n",
    "        r.raise_for_status()\n",
    "        with open(local_filename, 'wb') as f:\n",
    "            for chunk in r.iter_content(chunk_size=8192):\n",
    "                f.write(chunk)\n",
    "    with ZipFile(local_filename, 'r') as zip_ref:\n",
    "        zip_ref.extractall(extract_to)\n",
    "    os.remove(local_filename)\n"
   ]
  },
  {
   "cell_type": "code",
   "execution_count": null,
   "id": "08578326-7c0b-4a14-be48-af21e5ccefa1",
   "metadata": {},
   "outputs": [],
   "source": [
    "# Download images and annotations\n",
    "download_and_extract('http://images.cocodataset.org/zips/train2017.zip', 'coco/train2017')\n",
    "download_and_extract('http://images.cocodataset.org/zips/val2017.zip', 'coco/val2017')\n",
    "download_and_extract('http://images.cocodataset.org/annotations/annotations_trainval2017.zip', 'coco/annotations')\n"
   ]
  },
  {
   "cell_type": "code",
   "execution_count": null,
   "id": "4ae2f9d1-c4ae-476a-b834-a7ae75923b00",
   "metadata": {},
   "outputs": [],
   "source": [
    "# Define the dataset paths\n",
    "train_images_path = \"coco/train2017\"\n",
    "val_images_path = \"coco/val2017\"\n",
    "train_annotations_path = \"coco/annotations/instances_train2017.json\"\n",
    "val_annotations_path = \"coco/annotations/instances_val2017.json\"\n"
   ]
  },
  {
   "cell_type": "code",
   "execution_count": null,
   "id": "d26ae094-56b8-4a30-ba23-f51683770617",
   "metadata": {},
   "outputs": [],
   "source": [
    "# Define the YOLOv5 configuration content\n",
    "coco_config = f\"\"\"\n",
    "train: {train_images_path}\n",
    "val: {val_images_path}\n",
    "\n",
    "# number of classes\n",
    "nc: 80\n",
    "\n",
    "# class names\n",
    "names: [\"person\", \"bicycle\", \"car\", \"motorcycle\", \"airplane\", \"bus\", \"train\", \"truck\", \"boat\", \"traffic light\", \"fire hydrant\", \"stop sign\", \"parking meter\", \"bench\", \"bird\", \"cat\", \"dog\", \"horse\", \"sheep\", \"cow\", \"elephant\", \"bear\", \"zebra\", \"giraffe\", \"backpack\", \"umbrella\", \"handbag\", \"tie\", \"suitcase\", \"frisbee\", \"skis\", \"snowboard\", \"sports ball\", \"kite\", \"baseball bat\", \"baseball glove\", \"skateboard\", \"surfboard\", \"tennis racket\", \"bottle\", \"wine glass\", \"cup\", \"fork\", \"knife\", \"spoon\", \"bowl\", \"banana\", \"apple\", \"sandwich\", \"orange\", \"broccoli\", \"carrot\", \"hot dog\", \"pizza\", \"donut\", \"cake\", \"chair\", \"couch\", \"potted plant\", \"bed\", \"dining table\", \"toilet\", \"tv\", \"laptop\", \"mouse\", \"remote\", \"keyboard\", \"cell phone\", \"microwave\", \"oven\", \"toaster\", \"sink\", \"refrigerator\", \"book\", \"clock\", \"vase\", \"scissors\", \"teddy bear\", \"hair drier\", \"toothbrush\"]\n",
    "\"\"\"\n"
   ]
  },
  {
   "cell_type": "code",
   "execution_count": null,
   "id": "9298d5c9-d3f7-4414-80b3-7a114e5372d1",
   "metadata": {},
   "outputs": [],
   "source": [
    "# Save the configuration to a file\n",
    "with open('coco.yaml', 'w') as f:\n",
    "    f.write(coco_config)\n"
   ]
  },
  {
   "cell_type": "code",
   "execution_count": null,
   "id": "26d15075-0516-4548-a0e6-4b9e3f6a3583",
   "metadata": {},
   "outputs": [],
   "source": [
    "# Train the YOLOv5 model\n",
    "!python train.py --img 640 --batch 16 --epochs 10 --data coco.yaml --weights yolov5s.pt\n"
   ]
  },
  {
   "cell_type": "code",
   "execution_count": null,
   "id": "5d2bc999-d58a-4938-9f1c-52737502e604",
   "metadata": {},
   "outputs": [],
   "source": [
    "# List the contents of the 'runs/train' directory\n",
    "training_runs_dir = 'runs/train/'\n",
    "runs = sorted(os.listdir(training_runs_dir), key=lambda x: os.path.getctime(os.path.join(training_runs_dir, x)))\n",
    "\n",
    "# Get the latest run directory\n",
    "latest_run_dir = os.path.join(training_runs_dir, runs[-1])\n",
    "print(\"Latest run directory:\", latest_run_dir)\n",
    "\n",
    "# Path to the best weights file\n",
    "best_weights_path = os.path.join(latest_run_dir, 'weights', 'best.pt')\n",
    "print(\"Best weights path:\", best_weights_path)\n"
   ]
  },
  {
   "cell_type": "code",
   "execution_count": null,
   "id": "91f62db2-953c-45cc-a08d-ec16964c2b6c",
   "metadata": {},
   "outputs": [],
   "source": [
    "# Perform inference and visualization\n",
    "import torch\n",
    "from PIL import Image\n",
    "import matplotlib.pyplot as plt\n",
    "import numpy as np\n",
    "\n",
    "# Load the trained model\n",
    "model = torch.hub.load('ultralytics/yolov5', 'custom', path=best_weights_path)\n",
    "\n",
    "# Path to an individual image for inference testing\n",
    "test_image_path = \"coco/val2017/000000000139.jpg\"  # Replace with the path to your test image\n",
    "\n",
    "# Perform inference\n",
    "img = Image.open(test_image_path)\n",
    "results = model(img)\n",
    "\n",
    "# Visualize the predictions\n",
    "results.show()\n",
    "\n",
    "# Optionally, save the predictions\n",
    "results.save()"
   ]
  },
  {
   "cell_type": "code",
   "execution_count": null,
   "id": "8e2260f3-553d-446b-872f-53891133f583",
   "metadata": {},
   "outputs": [],
   "source": []
  },
  {
   "cell_type": "code",
   "execution_count": null,
   "id": "00dcdfeb-2099-4bf7-a102-38eed6ff6a5c",
   "metadata": {},
   "outputs": [],
   "source": []
  }
 ],
 "metadata": {
  "kernelspec": {
   "display_name": "Python 3 (ipykernel)",
   "language": "python",
   "name": "python3"
  },
  "language_info": {
   "codemirror_mode": {
    "name": "ipython",
    "version": 3
   },
   "file_extension": ".py",
   "mimetype": "text/x-python",
   "name": "python",
   "nbconvert_exporter": "python",
   "pygments_lexer": "ipython3",
   "version": "3.12.4"
  }
 },
 "nbformat": 4,
 "nbformat_minor": 5
}
